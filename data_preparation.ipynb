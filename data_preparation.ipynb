{
 "cells": [
  {
   "cell_type": "code",
   "execution_count": 19,
   "metadata": {},
   "outputs": [
    {
     "data": {
      "text/plain": [
       "3"
      ]
     },
     "execution_count": 19,
     "metadata": {},
     "output_type": "execute_result"
    }
   ],
   "source": [
    "from langchain.document_loaders import DirectoryLoader\n",
    "\n",
    "def load_docs(directory):\n",
    "  loader = DirectoryLoader(directory)\n",
    "  documents = loader.load()\n",
    "  return documents\n",
    "\n",
    "directory = '../text file'\n",
    "documents = load_docs(directory)\n",
    "len(documents)"
   ]
  },
  {
   "cell_type": "code",
   "execution_count": 20,
   "metadata": {},
   "outputs": [
    {
     "data": {
      "text/plain": [
       "[Document(page_content=\"India's culture is a tapestry woven with threads of history, diversity, and tradition, reflecting a rich heritage that spans millennia. At its core lies a profound respect for tradition and spirituality, influencing every aspect of daily life. One of the most striking features of Indian culture is its diversity, manifested in the myriad languages, religions, cuisines, and customs that coexist harmoniously across the vast expanse of the country. From the snow-capped peaks of the Himalayas to the sun-kissed beaches of the Indian Ocean, each region of India boasts its own unique cultural identity, shaped by geography, history, and migration patterns.\\n\\nReligion plays a central role in Indian culture, with Hinduism, Buddhism, Jainism, Sikhism, Islam, and Christianity being the major faiths practiced by its people. Festivals punctuate the Indian calendar, celebrating religious occasions, harvests, and seasonal changes with fervor and joy. These festivals are often marked by colorful rituals, vibrant processions, and sumptuous feasts, offering glimpses into India's spiritual and cultural heritage.\\n\\nIndian cuisine is renowned worldwide for its diversity and flavor. Each region boasts its own culinary specialties, influenced by local ingredients, climate, and cultural traditions. Spices like turmeric, cumin, and cardamom feature prominently in Indian cooking, lending dishes their characteristic aroma and taste. Whether it's the fiery curries of the south, the hearty breads of the north, or the delicate sweets of the east, Indian cuisine is a reflection of the country's rich agricultural heritage and culinary ingenuity.\\n\\nArt and literature have flourished in India for centuries, producing timeless masterpieces in fields ranging from classical music and dance to literature and visual arts. Classical dance forms like Bharatanatyam, Kathak, and Odissi are steeped in tradition, with each movement conveying deep symbolism and emotion. Indian literature spans millennia, from the ancient texts of the Vedas and epics like the Ramayana and Mahabharata to modern works that explore themes of identity, social justice, and cultural change.\\n\\nThe Indian film industry, popularly known as Bollywood, is a global powerhouse, producing thousands of films each year that captivate audiences with their colorful costumes, melodious music, and larger-than-life storytelling. Indian cinema reflects the cultural zeitgeist, addressing social issues, celebrating love and friendship, and offering escapism in equal measure.\\n\\nDespite the rapid pace of modernization and globalization, India's cultural heritage remains a source of pride and identity for its people. Whether it's through traditional art forms, religious rituals, or everyday customs, Indian culture continues to evolve and thrive, embodying the resilience and vitality of a nation shaped by centuries of history and tradition.\", metadata={'source': '..\\\\text file\\\\india culture.txt'}),\n",
       " Document(page_content=\"India's Gross Domestic Product (GDP) is a complex and dynamic indicator that reflects the economic health and growth trajectory of one of the world's most populous nations. As of recent records, India has emerged as one of the fastest-growing major economies globally, characterized by a diverse economic landscape encompassing agriculture, manufacturing, services, and increasingly, technology. Its GDP is not merely a statistic but a reflection of the aspirations and challenges of a nation undergoing rapid transformation. With a GDP that has been steadily climbing, India has positioned itself as a key player in the global economy, attracting investments and fostering innovation across various sectors. However, it's essential to recognize the nuances within this figure – while India boasts a burgeoning middle class and a robust service sector, it also grapples with issues of income inequality, regional disparities, and bureaucratic hurdles that can impede sustainable growth. Moreover, factors such as population growth, infrastructure development, and environmental sustainability play critical roles in shaping the trajectory of India's GDP. Therefore, understanding India's GDP requires a holistic view that considers not only the numbers but also the socio-economic context in which they operate, offering insights into both the opportunities and challenges that lie ahead for the nation.\", metadata={'source': '..\\\\text file\\\\India gdp.txt'}),\n",
       " Document(page_content=\"India's relationship with the United States is multifaceted and has evolved significantly over the years. Initially characterized by Cold War dynamics, the relationship has transformed into a strategic partnership with shared interests in various domains including security, trade, technology, and people-to-people ties.\\n\\nDiplomatic ties between India and the United States were established in 1947, soon after India gained independence from British colonial rule. However, it was during the early 2000s that the relationship began to gain momentum, marked by the signing of the US-India Civil Nuclear Agreement in 2008, which paved the way for increased cooperation in nuclear energy and defense.\\n\\nToday, India and the United States share a robust strategic partnership, underpinned by common democratic values, economic interests, and shared concerns about regional stability and security. Defense cooperation between the two countries has expanded significantly, with the United States emerging as one of India's largest defense partners, including defense technology transfers, joint military exercises, and defense trade.\\n\\nTrade and economic relations have also seen steady growth, with the United States being one of India's largest trading partners. However, issues such as trade imbalances, market access, and intellectual property rights continue to be areas of discussion and negotiation between the two nations.\\n\\nIn addition to defense and economic cooperation, India and the United States collaborate closely on issues ranging from counterterrorism and cybersecurity to climate change and healthcare. People-to-people ties between the two countries are strong, with a large Indian diaspora contributing to cultural exchange and economic links.\\n\\nWhile the relationship between India and the United States has seen significant strides in recent years, challenges remain, including differences over trade policies, geopolitical alignments, and divergent perspectives on certain international issues. However, the overall trajectory of the relationship suggests a growing convergence of interests and a recognition of the strategic importance of closer ties between these two vibrant democracies in the 21st century.\", metadata={'source': '..\\\\text file\\\\India-US.txt'})]"
      ]
     },
     "execution_count": 20,
     "metadata": {},
     "output_type": "execute_result"
    }
   ],
   "source": [
    "documents"
   ]
  },
  {
   "cell_type": "code",
   "execution_count": 21,
   "metadata": {},
   "outputs": [
    {
     "name": "stdout",
     "output_type": "stream",
     "text": [
      "18\n"
     ]
    }
   ],
   "source": [
    "from langchain.text_splitter import RecursiveCharacterTextSplitter\n",
    "\n",
    "def split_docs(documents,chunk_size=500,chunk_overlap=20):\n",
    "  text_splitter = RecursiveCharacterTextSplitter(chunk_size=chunk_size, chunk_overlap=chunk_overlap)\n",
    "  docs = text_splitter.split_documents(documents)\n",
    "  return docs\n",
    "\n",
    "docs = split_docs(documents)\n",
    "print(len(docs))"
   ]
  },
  {
   "cell_type": "code",
   "execution_count": 22,
   "metadata": {},
   "outputs": [
    {
     "name": "stderr",
     "output_type": "stream",
     "text": [
      "c:\\Users\\HP\\AppData\\Local\\Programs\\Python\\Python310\\lib\\site-packages\\huggingface_hub\\file_download.py:1132: FutureWarning: `resume_download` is deprecated and will be removed in version 1.0.0. Downloads always resume when possible. If you want to force a new download, use `force_download=True`.\n",
      "  warnings.warn(\n"
     ]
    }
   ],
   "source": [
    "from langchain.embeddings import SentenceTransformerEmbeddings\n",
    "embeddings = SentenceTransformerEmbeddings(model_name=\"all-MiniLM-L6-v2\")"
   ]
  },
  {
   "cell_type": "code",
   "execution_count": 37,
   "metadata": {},
   "outputs": [],
   "source": [
    "import pinecone\n",
    "from pinecone import Pinecone\n",
    "from langchain_pinecone import PineconeVectorStore\n",
    "import os\n",
    "\n",
    "PINECONE_API_KEY = '' #@param {type:\"string\"}\n",
    "# pinecone = Pinecone(api_key=PINECONE_API_KEY)\n",
    "# find ENV (cloud region) next to API key in console\n",
    "# YOUR_ENV = 'us-east-1' #@param {type:\"string\"}\n",
    "os.environ['PINECONE_API_KEY'] = PINECONE_API_KEY\n",
    "# find API key in console at app.pinecone.io\n",
    "\n",
    "\n",
    "index_name = 'chatbot-database'\n",
    "index = PineconeVectorStore.from_documents(docs, embeddings, index_name=index_name)"
   ]
  },
  {
   "cell_type": "code",
   "execution_count": 38,
   "metadata": {},
   "outputs": [
    {
     "data": {
      "text/plain": [
       "[Document(page_content=\"of a nation undergoing rapid transformation. With a GDP that has been steadily climbing, India has positioned itself as a key player in the global economy, attracting investments and fostering innovation across various sectors. However, it's essential to recognize the nuances within this figure – while India boasts a burgeoning middle class and a robust service sector, it also grapples with issues of income inequality, regional disparities, and bureaucratic hurdles that can impede sustainable\", metadata={'source': '..\\\\text file\\\\India gdp.txt'})]"
      ]
     },
     "execution_count": 38,
     "metadata": {},
     "output_type": "execute_result"
    }
   ],
   "source": [
    "def get_similiar_docs(query,k=1,score=False):\n",
    "  if score:\n",
    "    similar_docs = index.similarity_search_with_score(query,k=k)\n",
    "  else:\n",
    "    similar_docs = index.similarity_search(query,k=k)\n",
    "  return similar_docs\n",
    "\n",
    "query = \"How is India economy\"\n",
    "similar_docs = get_similiar_docs(query)\n",
    "similar_docs"
   ]
  },
  {
   "cell_type": "code",
   "execution_count": null,
   "metadata": {},
   "outputs": [],
   "source": []
  },
  {
   "cell_type": "code",
   "execution_count": null,
   "metadata": {},
   "outputs": [],
   "source": []
  },
  {
   "cell_type": "code",
   "execution_count": null,
   "metadata": {},
   "outputs": [],
   "source": []
  },
  {
   "cell_type": "code",
   "execution_count": null,
   "metadata": {},
   "outputs": [],
   "source": []
  }
 ],
 "metadata": {
  "kernelspec": {
   "display_name": "Python 3",
   "language": "python",
   "name": "python3"
  },
  "language_info": {
   "codemirror_mode": {
    "name": "ipython",
    "version": 3
   },
   "file_extension": ".py",
   "mimetype": "text/x-python",
   "name": "python",
   "nbconvert_exporter": "python",
   "pygments_lexer": "ipython3",
   "version": "3.10.11"
  }
 },
 "nbformat": 4,
 "nbformat_minor": 2
}
